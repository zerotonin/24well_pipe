{
 "cells": [
  {
   "cell_type": "code",
   "execution_count": 4,
   "metadata": {},
   "outputs": [],
   "source": [
    "filepath = r\"c:\\Users\\Lindsay\\Documents\\alexander\\Honors\\data_with_coords\\Cas9-B1\\P1000355\\ts02DLC_resnet50_single_tadpoleNov23shuffle1_1030000.h5\"\n"
   ]
  },
  {
   "cell_type": "markdown",
   "metadata": {},
   "source": [
    "# Load Data"
   ]
  },
  {
   "cell_type": "code",
   "execution_count": 5,
   "metadata": {},
   "outputs": [],
   "source": [
    "import pandas as pd\n",
    "data_in = pd.read_hdf(filepath)"
   ]
  },
  {
   "cell_type": "markdown",
   "metadata": {},
   "source": [
    "## Drop Scorer Row"
   ]
  },
  {
   "cell_type": "code",
   "execution_count": 112,
   "metadata": {},
   "outputs": [],
   "source": [
    "data=data_in.copy()\n",
    "data.columns = data.columns.droplevel(level='scorer')"
   ]
  },
  {
   "cell_type": "markdown",
   "metadata": {},
   "source": [
    "# Functions"
   ]
  },
  {
   "cell_type": "code",
   "execution_count": 116,
   "metadata": {},
   "outputs": [],
   "source": [
    "# function to adjust eyeball posistion sif ther eis a low likelihood for the position of an eye\n",
    "def adjust_eyes(left_eye_column_in, right_eye_column_in, likelihood_threshold=0.998):\n",
    "    # copy data\n",
    "    left_eye_column= left_eye_column_in\n",
    "    right_eye_column=  right_eye_column_in\n",
    "    # check same shape input data\n",
    "    if left_eye_column.shape!=right_eye_column.shape:\n",
    "        # print(\"Error, shape of right and left eye data frames differs\")\n",
    "        return(pd.DataFrame([]))\n",
    "\n",
    "    for i in range(left_eye_column.shape[0]):\n",
    "        # If unsure of both eyes, replace with last known position or skip if i=0\n",
    "        if left_eye_column.at[i,'likelihood']<likelihood_threshold and right_eye_column.at[i,'likelihood']<likelihood_threshold:\n",
    "            if i==0:\n",
    "                #print(\"Error, unsure of both eye positions on first data point, skipping correction\")\n",
    "                continue \n",
    "            else:\n",
    "                left_eye_column.at[i,'x']= left_eye_column[i-1,'x']\n",
    "                right_eye_column.at[i,'x']= right_eye_column[i-1,'x']\n",
    "                left_eye_column.at[i,'y']= left_eye_column[i-1,'y']\n",
    "                right_eye_column.at[i,'y']= right_eye_column[i-1,'y']\n",
    "                print(\"unsure of both predictions of eyes, using previous\")\n",
    "                continue\n",
    "    \n",
    "        # If unsure of left eye only ( exclusive because of guard statement above)\n",
    "        if left_eye_column.at[i,'likelihood']<likelihood_threshold:\n",
    "            #print(\"left eye unsure as likelihood is \" + str(left_eye_column.at[i,'likelihood']) + \"\\n replacing \" + str(left_eye_column.at[i,'x']) + \" \" + str(left_eye_column.at[i,'y']) + \" with \" + str(right_eye_column.at[i,'x']) + \" \" + str(right_eye_column.at[i,'y']))\n",
    "            left_eye_column.at[i,'x']= right_eye_column.at[i,'x']\n",
    "            left_eye_column.at[i,'y']= right_eye_column.at[i,'y']\n",
    "            \n",
    "\n",
    "        # If unsure of Right eye only ( exclusive because of guard statement above)\n",
    "        if right_eye_column.at[i,'likelihood']<likelihood_threshold:\n",
    "            #print(\"right eye unsure as likelihood is \" + str(right_eye_column.at[i,'likelihood']) + \"\\n replacing \" + str(right_eye_column.at[i,'x']) + \" \" + str(right_eye_column.at[i,'y']) + \" with \" + str(left_eye_column.at[i,'x']) + \" \" + str(left_eye_column.at[i,'y']))\n",
    "            right_eye_column.at[i,'x']= left_eye_column.at[i,'x']\n",
    "            right_eye_column.at[i,'y']= left_eye_column.at[i,'y']\n",
    "    return (left_eye_column, right_eye_column)\n",
    "\n",
    "\n",
    "def get_frons(left_eye_column_in, right_eye_column_in):\n",
    "    # function to calculate frons position - frons is halfway between the 2 eyes\n",
    "    frons_x= (left_eye_column_in[\"x\"]+right_eye_column_in[\"x\"])/2\n",
    "    frons_y=(left_eye_column_in[\"y\"]+right_eye_column_in[\"y\"])/2\n",
    "    frons_index = pd.MultiIndex.from_product([[\"frons\"], [\"x\", \"y\"]])\n",
    "    frons_df = pd.DataFrame( columns=frons_index)\n",
    "    frons_df[(\"frons\", \"x\")] = frons_x\n",
    "    frons_df[(\"frons\", \"y\")] = frons_y\n",
    "    return frons_df\n",
    "\n",
    "def get_com(left_eye_column_in, right_eye_column_in, tail_base_column_in):\n",
    "    # function to calculate centre of mass of the tadpole\n",
    "    com_x= (left_eye_column_in[\"x\"]+right_eye_column_in[\"x\"]+tail_base_column_in[\"x\"])/3\n",
    "    com_y=(left_eye_column_in[\"y\"]+right_eye_column_in[\"y\"]+tail_base_column_in[\"y\"])/3\n",
    "    com_index = pd.MultiIndex.from_product([[\"com\"], [\"x\", \"y\"]])\n",
    "    com_df = pd.DataFrame( columns=com_index)\n",
    "    com_df[(\"com\", \"x\")] = com_x\n",
    "    com_df[(\"com\", \"y\")] = com_y\n",
    "    return com_df\n"
   ]
  },
  {
   "cell_type": "markdown",
   "metadata": {},
   "source": [
    "## Adjust Eyes"
   ]
  },
  {
   "cell_type": "code",
   "execution_count": 113,
   "metadata": {},
   "outputs": [],
   "source": [
    "data['left_eye'], data['right_eye'] = adjust_eyes(data['left_eye'], data['right_eye'])\n"
   ]
  },
  {
   "cell_type": "markdown",
   "metadata": {},
   "source": [
    "## Create Frons"
   ]
  },
  {
   "cell_type": "code",
   "execution_count": 114,
   "metadata": {},
   "outputs": [],
   "source": [
    "#get_frons(data['left_eye'], data['right_eye'])\n",
    "frons_df = get_frons(data['left_eye'], data['right_eye'])\n",
    "data=pd.concat([data, frons_df], axis=1)\n"
   ]
  },
  {
   "cell_type": "markdown",
   "metadata": {},
   "source": [
    "# Create Centre of Mass"
   ]
  },
  {
   "cell_type": "code",
   "execution_count": 117,
   "metadata": {},
   "outputs": [],
   "source": [
    "com_df = get_com(data['left_eye'], data['right_eye'], data['tail_base'])\n",
    "data=pd.concat([data, com_df], axis=1)"
   ]
  },
  {
   "cell_type": "markdown",
   "metadata": {},
   "source": [
    "# Plot Tadpole Position"
   ]
  },
  {
   "cell_type": "code",
   "execution_count": 130,
   "metadata": {},
   "outputs": [
    {
     "data": {
      "image/png": "[encoded data removed]",
      "text/plain": [
       "<Figure size 1000x600 with 1 Axes>"
      ]
     },
     "metadata": {},
     "output_type": "display_data"
    }
   ],
   "source": [
    "import pandas as pd\n",
    "import matplotlib.pyplot as plt\n",
    "idx_to_visualise=0\n",
    "# Get body part names from the top level of MultiIndex\n",
    "bodyparts = data.columns.levels[0]\n",
    "\n",
    "# Create the plot\n",
    "plt.figure(figsize=(10, 6))  # Set plot size\n",
    "\n",
    "# Loop through each body part\n",
    "for bodypart in bodyparts:\n",
    "    # Select data for this body part (all rows)\n",
    "    bodypart_data = data.loc[idx_to_visualise, bodypart]  # Select specific level and column\n",
    "\n",
    "    # Extract x and y data\n",
    "    x_position = bodypart_data['x']\n",
    "    y_position = bodypart_data['y']\n",
    "\n",
    "    # Plot the points with labels\n",
    "    plt.plot(x_position, y_position, 'o', label=bodypart)  # Plot and label\n",
    "    plt.text(x_position + 1, y_position + 1, bodypart, fontsize=8)  # Add text label\n",
    "\n",
    "# Configure plot\n",
    "plt.xlabel(\"X Position\")\n",
    "plt.ylabel(\"Y Position\")\n",
    "plt.title(\"Body Part Positions at Time Point: \" + str(idx_to_visualise))\n",
    "plt.legend()\n",
    "plt.grid(True)\n",
    "\n",
    "# Show the plot\n",
    "plt.show()"
   ]
  },
  {
   "cell_type": "code",
   "execution_count": 121,
   "metadata": {},
   "outputs": [
    {
     "data": {
      "text/plain": [
       "MultiIndex([( 'left_eye',          'x'),\n",
       "            ( 'left_eye',          'y'),\n",
       "            ( 'left_eye', 'likelihood'),\n",
       "            ('right_eye',          'x'),\n",
       "            ('right_eye',          'y'),\n",
       "            ('right_eye', 'likelihood'),\n",
       "            ('tail_base',          'x'),\n",
       "            ('tail_base',          'y'),\n",
       "            ('tail_base', 'likelihood'),\n",
       "            (   'tail_1',          'x'),\n",
       "            (   'tail_1',          'y'),\n",
       "            (   'tail_1', 'likelihood'),\n",
       "            (   'tail_2',          'x'),\n",
       "            (   'tail_2',          'y'),\n",
       "            (   'tail_2', 'likelihood'),\n",
       "            (   'tail_3',          'x'),\n",
       "            (   'tail_3',          'y'),\n",
       "            (   'tail_3', 'likelihood'),\n",
       "            ( 'tail_end',          'x'),\n",
       "            ( 'tail_end',          'y'),\n",
       "            ( 'tail_end', 'likelihood'),\n",
       "            (    'frons',          'x'),\n",
       "            (    'frons',          'y'),\n",
       "            (      'com',          'x'),\n",
       "            (      'com',          'y')],\n",
       "           )"
      ]
     },
     "execution_count": 121,
     "metadata": {},
     "output_type": "execute_result"
    }
   ],
   "source": [
    "data.columns"
   ]
  }
 ],
 "metadata": {
  "kernelspec": {
   "display_name": "tadpole_env2",
   "language": "python",
   "name": "python3"
  },
  "language_info": {
   "codemirror_mode": {
    "name": "ipython",
    "version": 3
   },
   "file_extension": ".py",
   "mimetype": "text/x-python",
   "name": "python",
   "nbconvert_exporter": "python",
   "pygments_lexer": "ipython3",
   "version": "3.11.5"
  }
 },
 "nbformat": 4,
 "nbformat_minor": 2
}
